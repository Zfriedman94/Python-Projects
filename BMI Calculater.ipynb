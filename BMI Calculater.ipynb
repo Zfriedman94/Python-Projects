{
 "cells": [
  {
   "cell_type": "markdown",
   "id": "e4ba11f9-3b06-4489-94f9-56be396df711",
   "metadata": {},
   "source": [
    "# BMI Calculator"
   ]
  },
  {
   "cell_type": "markdown",
   "id": "1d4fdc22-166e-4f73-8ec4-9117f780542d",
   "metadata": {},
   "source": [
    "https://www.nhlbi.nih.gov/health/educational/lose_wt/BMI/bmicalc.htm"
   ]
  },
  {
   "cell_type": "markdown",
   "id": "0758a151-fe17-42e0-bd6c-f62dc0e07f27",
   "metadata": {},
   "source": [
    "BMI = (weight in pounds x 703) / (height in inches) x (height in inches)"
   ]
  },
  {
   "cell_type": "code",
   "execution_count": 23,
   "id": "e0dc74df-d821-4d78-b606-1d87397048d8",
   "metadata": {},
   "outputs": [
    {
     "name": "stdin",
     "output_type": "stream",
     "text": [
      "Enter your name:  Carley\n",
      "Enter your weight in pounds:  260\n",
      "Enter your height in inches:  64\n"
     ]
    },
    {
     "name": "stdout",
     "output_type": "stream",
     "text": [
      "Your BMI score is 44.6240234375\n",
      "Carley, you are morbidly obese.\n"
     ]
    }
   ],
   "source": [
    "name = input(\"Enter your name: \")\n",
    "\n",
    "weight = int(input(\"Enter your weight in pounds: \"))\n",
    "\n",
    "height = int(input(\"Enter your height in inches: \"))\n",
    "\n",
    "BMI = (weight * 703) / (height * height)\n",
    "\n",
    "print(\"Your BMI score is \" + str(BMI))\n",
    "\n",
    "if BMI>0:\n",
    "    if(BMI<18.5):\n",
    "        print(name +\", you are underweight.\")\n",
    "    elif(BMI<=24.9):\n",
    "        print(name +\", you are a normal weight.\")\n",
    "    elif(BMI<=29.9):\n",
    "        print(name +\", you are overweight.\")\n",
    "    elif(BMI<=34.9):\n",
    "        print(name +\", you are obese.\")\n",
    "    elif(BMI<=39.9):\n",
    "        print(name +\", you are severely obese.\")\n",
    "    elif(BMI>39.9):\n",
    "        print(name +\", you are morbidly obese.\")\n",
    "    else:\n",
    "        print(\"Enter valid inputs\")\n",
    "    "
   ]
  },
  {
   "cell_type": "code",
   "execution_count": null,
   "id": "eb449cda-94a4-4b33-a1eb-dc41a7cb5d17",
   "metadata": {},
   "outputs": [],
   "source": []
  },
  {
   "cell_type": "code",
   "execution_count": null,
   "id": "b9e56bf4-b6c2-4e0f-81ec-3c8d7f0e8701",
   "metadata": {},
   "outputs": [],
   "source": []
  },
  {
   "cell_type": "code",
   "execution_count": null,
   "id": "16c71b86-08d0-4764-b3f9-223645fdbf7b",
   "metadata": {},
   "outputs": [],
   "source": []
  },
  {
   "cell_type": "code",
   "execution_count": null,
   "id": "e2762dbb-d7da-4445-9cae-2e0aa28b5d2d",
   "metadata": {},
   "outputs": [],
   "source": []
  },
  {
   "cell_type": "code",
   "execution_count": null,
   "id": "203f2aeb-6b56-4551-b3f1-174d65f5e471",
   "metadata": {},
   "outputs": [],
   "source": []
  },
  {
   "cell_type": "code",
   "execution_count": null,
   "id": "bddfe8cf-e030-44a0-9548-5492f75f5b1d",
   "metadata": {},
   "outputs": [],
   "source": []
  },
  {
   "cell_type": "code",
   "execution_count": null,
   "id": "26a987c6-51ad-4471-801a-22bccf20aadc",
   "metadata": {},
   "outputs": [],
   "source": []
  },
  {
   "cell_type": "code",
   "execution_count": null,
   "id": "88e4946c-5891-4936-acf4-c85fda247f79",
   "metadata": {},
   "outputs": [],
   "source": []
  },
  {
   "cell_type": "code",
   "execution_count": null,
   "id": "4495ddd1-1a54-4dfd-828e-d96f883dc994",
   "metadata": {},
   "outputs": [],
   "source": []
  }
 ],
 "metadata": {
  "kernelspec": {
   "display_name": "Python 3 (ipykernel)",
   "language": "python",
   "name": "python3"
  },
  "language_info": {
   "codemirror_mode": {
    "name": "ipython",
    "version": 3
   },
   "file_extension": ".py",
   "mimetype": "text/x-python",
   "name": "python",
   "nbconvert_exporter": "python",
   "pygments_lexer": "ipython3",
   "version": "3.11.7"
  }
 },
 "nbformat": 4,
 "nbformat_minor": 5
}
